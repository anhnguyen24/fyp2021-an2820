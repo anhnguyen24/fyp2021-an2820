{
  "cells": [
    {
      "cell_type": "code",
      "execution_count": null,
      "metadata": {
        "collapsed": false
      },
      "outputs": [],
      "source": [
        "%matplotlib inline"
      ]
    },
    {
      "cell_type": "markdown",
      "metadata": {},
      "source": [
        "\n# Plotting Gender count\n"
      ]
    },
    {
      "cell_type": "code",
      "execution_count": null,
      "metadata": {
        "collapsed": false
      },
      "outputs": [],
      "source": [
        "# Libraries\nimport pandas as pd\nimport matplotlib.pyplot as plt\n\n\n# --------------------------------\n# Methods\n# --------------------------------\ndef gender(data):\n    \"\"\"\n    Create plot to see data distribution in each gender group\n    Drop the NaN values so data won't be redundant\n    :type name: data frame\n    :param name: columns to import, if 1 then import everything\n    \"\"\"\n    data_count = data.dropna(subset=['sex'])\n    data_count.reset_index(inplace=True)\n    count = data_count.groupby('sex').count()  # Count the occurence in each age group\n    ax = count.plot.bar(y='id', rot=0, title=\"Number of patient in gender\")\n    ax.set_xlabel(\"Sex\")\n    ax.set_ylabel(\"Frequency\")\n\n\n# --------------------------------\n# Configuration\n# ---------------------------------\n# Load data\ndata = pd.read_csv('./resources/datasets/dengue_merged_dec2020.csv')\n\n# Plot\ngender(data)\n\n# Display\nplt.show()"
      ]
    }
  ],
  "metadata": {
    "kernelspec": {
      "display_name": "Python 3",
      "language": "python",
      "name": "python3"
    },
    "language_info": {
      "codemirror_mode": {
        "name": "ipython",
        "version": 3
      },
      "file_extension": ".py",
      "mimetype": "text/x-python",
      "name": "python",
      "nbconvert_exporter": "python",
      "pygments_lexer": "ipython3",
      "version": "3.9.1"
    }
  },
  "nbformat": 4,
  "nbformat_minor": 0
}